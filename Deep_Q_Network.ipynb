{
 "cells": [
  {
   "cell_type": "markdown",
   "metadata": {},
   "source": [
    "# Deep Q-Network (DQN)\n",
    "---\n",
    "This notebook is a implementation of a DQN agent to solve OpenAI Gym's LunarLander-v2 environment running on a Windows10 machine.\n",
    "\n",
    "### 1. Import the Necessary Packages and set global variables"
   ]
  },
  {
   "cell_type": "code",
   "execution_count": 1,
   "metadata": {},
   "outputs": [
    {
     "name": "stdout",
     "output_type": "stream",
     "text": [
      "Requirement already satisfied: gym in c:\\dev\\python\\rl\\lunar_lander\\venv\\lib\\site-packages (0.17.1)\n",
      "Requirement already satisfied: scipy in c:\\dev\\python\\rl\\lunar_lander\\venv\\lib\\site-packages (from gym) (1.4.1)\n",
      "Requirement already satisfied: numpy>=1.10.4 in c:\\dev\\python\\rl\\lunar_lander\\venv\\lib\\site-packages (from gym) (1.18.3)\n",
      "Requirement already satisfied: six in c:\\dev\\python\\rl\\lunar_lander\\venv\\lib\\site-packages (from gym) (1.14.0)\n",
      "Requirement already satisfied: pyglet<=1.5.0,>=1.4.0 in c:\\dev\\python\\rl\\lunar_lander\\venv\\lib\\site-packages (from gym) (1.5.0)\n",
      "Requirement already satisfied: cloudpickle<1.4.0,>=1.2.0 in c:\\dev\\python\\rl\\lunar_lander\\venv\\lib\\site-packages (from gym) (1.3.0)\n",
      "Requirement already satisfied: future in c:\\dev\\python\\rl\\lunar_lander\\venv\\lib\\site-packages (from pyglet<=1.5.0,>=1.4.0->gym) (0.18.2)\n",
      "Requirement already satisfied: Box2D in c:\\dev\\python\\rl\\lunar_lander\\venv\\lib\\site-packages (2.3.10)\n",
      "Requirement already satisfied: pyglet==1.5.0 in c:\\dev\\python\\rl\\lunar_lander\\venv\\lib\\site-packages (1.5.0)\n",
      "Requirement already satisfied: future in c:\\dev\\python\\rl\\lunar_lander\\venv\\lib\\site-packages (from pyglet==1.5.0) (0.18.2)\n",
      "Requirement already satisfied: gym[box2d] in c:\\dev\\python\\rl\\lunar_lander\\venv\\lib\\site-packages (0.17.1)\n",
      "Requirement already satisfied: scipy in c:\\dev\\python\\rl\\lunar_lander\\venv\\lib\\site-packages (from gym[box2d]) (1.4.1)\n",
      "Requirement already satisfied: numpy>=1.10.4 in c:\\dev\\python\\rl\\lunar_lander\\venv\\lib\\site-packages (from gym[box2d]) (1.18.3)\n",
      "Requirement already satisfied: six in c:\\dev\\python\\rl\\lunar_lander\\venv\\lib\\site-packages (from gym[box2d]) (1.14.0)\n",
      "Requirement already satisfied: pyglet<=1.5.0,>=1.4.0 in c:\\dev\\python\\rl\\lunar_lander\\venv\\lib\\site-packages (from gym[box2d]) (1.5.0)\n",
      "Requirement already satisfied: cloudpickle<1.4.0,>=1.2.0 in c:\\dev\\python\\rl\\lunar_lander\\venv\\lib\\site-packages (from gym[box2d]) (1.3.0)\n",
      "Collecting box2d-py~=2.3.5 (from gym[box2d])\n",
      "  Using cached https://files.pythonhosted.org/packages/98/c2/ab05b5329dc4416b5ee5530f0625a79c394a3e3c10abe0812b9345256451/box2d-py-2.3.8.tar.gz\n",
      "Requirement already satisfied: future in c:\\dev\\python\\rl\\lunar_lander\\venv\\lib\\site-packages (from pyglet<=1.5.0,>=1.4.0->gym[box2d]) (0.18.2)\n",
      "Installing collected packages: box2d-py\n",
      "  Running setup.py install for box2d-py: started\n",
      "    Running setup.py install for box2d-py: finished with status 'error'\n",
      "    Complete output from command C:\\Dev\\Python\\RL\\Lunar_Lander\\venv\\Scripts\\python.exe -u -c \"import setuptools, tokenize;__file__='C:\\\\Users\\\\JUSTIN~1\\\\AppData\\\\Local\\\\Temp\\\\pip-install-eylsmn_1\\\\box2d-py\\\\setup.py';f=getattr(tokenize, 'open', open)(__file__);code=f.read().replace('\\r\\n', '\\n');f.close();exec(compile(code, __file__, 'exec'))\" install --record C:\\Users\\JUSTIN~1\\AppData\\Local\\Temp\\pip-record-ivgp2va1\\install-record.txt --single-version-externally-managed --compile --install-headers C:\\Dev\\Python\\RL\\Lunar_Lander\\venv\\include\\site\\python3.6\\box2d-py:\n",
      "    Using setuptools (version 40.8.0).\n",
      "    running install\n",
      "    running build\n",
      "    running build_py\n",
      "    creating build\n",
      "    creating build\\lib.win-amd64-3.6\n",
      "    creating build\\lib.win-amd64-3.6\\Box2D\n",
      "    copying library\\Box2D\\Box2D.py -> build\\lib.win-amd64-3.6\\Box2D\n",
      "    copying library\\Box2D\\__init__.py -> build\\lib.win-amd64-3.6\\Box2D\n",
      "    creating build\\lib.win-amd64-3.6\\Box2D\\b2\n",
      "    copying library\\Box2D\\b2\\__init__.py -> build\\lib.win-amd64-3.6\\Box2D\\b2\n",
      "    running build_ext\n",
      "    building 'Box2D._Box2D' extension\n",
      "    swigging Box2D\\Box2D.i to Box2D\\Box2D_wrap.cpp\n",
      "    swig.exe -python -c++ -IBox2D -small -O -includeall -ignoremissing -w201 -globals b2Globals -outdir library\\Box2D -keyword -w511 -D_SWIG_KWARGS -o Box2D\\Box2D_wrap.cpp Box2D\\Box2D.i\n",
      "    error: command 'swig.exe' failed: No such file or directory\n",
      "    \n",
      "    ----------------------------------------\n"
     ]
    },
    {
     "name": "stderr",
     "output_type": "stream",
     "text": [
      "Command \"C:\\Dev\\Python\\RL\\Lunar_Lander\\venv\\Scripts\\python.exe -u -c \"import setuptools, tokenize;__file__='C:\\\\Users\\\\JUSTIN~1\\\\AppData\\\\Local\\\\Temp\\\\pip-install-eylsmn_1\\\\box2d-py\\\\setup.py';f=getattr(tokenize, 'open', open)(__file__);code=f.read().replace('\\r\\n', '\\n');f.close();exec(compile(code, __file__, 'exec'))\" install --record C:\\Users\\JUSTIN~1\\AppData\\Local\\Temp\\pip-record-ivgp2va1\\install-record.txt --single-version-externally-managed --compile --install-headers C:\\Dev\\Python\\RL\\Lunar_Lander\\venv\\include\\site\\python3.6\\box2d-py\" failed with error code 1 in C:\\Users\\JUSTIN~1\\AppData\\Local\\Temp\\pip-install-eylsmn_1\\box2d-py\\\n"
     ]
    }
   ],
   "source": [
    "# global variables for control flow\n",
    "watch_agent = True\n",
    "save_graph = True\n",
    "show_graph = True\n",
    "\n",
    "!pip3 install gym\n",
    "!pip3 install Box2D\n",
    "!pip3 install pyglet==1.5.0\n",
    "!pip install gym[box2d]\n",
    "import gym\n",
    "import random\n",
    "import torch\n",
    "import numpy as np\n",
    "from collections import deque\n",
    "import matplotlib.pyplot as plt\n",
    "%matplotlib inline\n"
   ]
  },
  {
   "cell_type": "markdown",
   "metadata": {},
   "source": [
    "### 2. Instantiate the Environment and Untrained Agent\n",
    "\n",
    "Initialize the environment in the code cell below."
   ]
  },
  {
   "cell_type": "code",
   "execution_count": 2,
   "metadata": {},
   "outputs": [
    {
     "name": "stderr",
     "output_type": "stream",
     "text": [
      "c:\\dev\\python\\rl\\lunar_lander\\venv\\lib\\site-packages\\gym\\logger.py:30: UserWarning: \u001B[33mWARN: Box bound precision lowered by casting to float32\u001B[0m\n",
      "  warnings.warn(colorize('%s: %s'%('WARN', msg % args), 'yellow'))\n"
     ]
    }
   ],
   "source": [
    "# Set up Enviornment\n",
    "env = gym.make('LunarLander-v2')\n",
    "env.seed(88)\n",
    "\n",
    "# Set up Agents\n",
    "from dqn_agent import Agent\n",
    "from dqn_agent import Agent_Double\n",
    "baseline_agent = Agent(state_size=8, action_size=4, seed=0)\n",
    "double_agent = Agent_Double(state_size=8, action_size=4, seed=0)\n",
    "\n",
    "\n",
    "# Watch an untrained agent\n",
    "state = env.reset()\n",
    "if watch_agent:\n",
    "    done = False\n",
    "    while not done:\n",
    "        env.render()\n",
    "        action = baseline_agent.act(state)\n",
    "        state, reward, done, _ = env.step(action)\n",
    "\n",
    "    env.close()"
   ]
  },
  {
   "cell_type": "markdown",
   "metadata": {},
   "source": [
    "### 3. Function to train the Baseline Agent with DQN"
   ]
  },
  {
   "cell_type": "code",
   "execution_count": 3,
   "metadata": {},
   "outputs": [],
   "source": [
    "def dqn(n_episodes=1500, max_t=1000, eps_start=1.0, eps_end=0.01, eps_decay=0.995):\n",
    "    \"\"\"Deep Q-Learning.\n",
    "    \n",
    "    Params\n",
    "    ======\n",
    "        n_episodes (int): maximum number of training episodes\n",
    "        max_t (int): maximum number of timesteps per episode\n",
    "        eps_start (float): starting value of epsilon, for epsilon-greedy action selection\n",
    "        eps_end (float): minimum value of epsilon\n",
    "        eps_decay (float): multiplicative factor (per episode) for decreasing epsilon\n",
    "    \"\"\"\n",
    "    scores = []                        # list containing scores from each episode\n",
    "    scores_window = deque(maxlen=100)  # last 100 scores\n",
    "    eps = eps_start                    # initialize epsilon\n",
    "    for i_episode in range(1, n_episodes+1):\n",
    "        state = env.reset()\n",
    "        score = 0\n",
    "        for t in range(max_t):\n",
    "            action = baseline_agent.act(state, eps)\n",
    "            next_state, reward, done, _ = env.step(action)\n",
    "            baseline_agent.step(state, action, reward, next_state, done)\n",
    "            state = next_state\n",
    "            score += reward\n",
    "            if done:\n",
    "                break \n",
    "        scores_window.append(score)       # save most recent score\n",
    "        scores.append(score)              # save most recent score\n",
    "        eps = max(eps_end, eps_decay*eps) # decrease epsilon\n",
    "        print('\\rEpisode {}\\tAverage Score: {:.2f}'.format(i_episode, np.mean(scores_window)), end=\"\")\n",
    "        if i_episode % 100 == 0:\n",
    "            print('\\rEpisode {}\\tAverage Score: {:.2f}'.format(i_episode, np.mean(scores_window)))\n",
    "    torch.save(baseline_agent.qnetwork_local.state_dict(), 'baseline_checkpoint.pth')\n",
    "    return scores"
   ]
  },
  {
   "cell_type": "markdown",
   "source": [
    "### 4. Function to train the Double DQN Agent"
   ],
   "metadata": {
    "collapsed": false
   }
  },
  {
   "cell_type": "code",
   "execution_count": 4,
   "outputs": [],
   "source": [
    "def double_dqn(n_episodes=1500, max_t=1000, eps_start=1.0, eps_end=0.01, eps_decay=0.995):\n",
    "    \"\"\"Double Deep Q-Learning.\n",
    "\n",
    "    Params\n",
    "    ======\n",
    "        n_episodes (int): maximum number of training episodes\n",
    "        max_t (int): maximum number of timesteps per episode\n",
    "        eps_start (float): starting value of epsilon, for epsilon-greedy action selection\n",
    "        eps_end (float): minimum value of epsilon\n",
    "        eps_decay (float): multiplicative factor (per episode) for decreasing epsilon\n",
    "    \"\"\"\n",
    "    scores = []                        # list containing scores from each episode\n",
    "    scores_window = deque(maxlen=100)  # last 100 scores\n",
    "    eps = eps_start                    # initialize epsilon\n",
    "    for i_episode in range(1, n_episodes+1):\n",
    "        state = env.reset()\n",
    "        score = 0\n",
    "        for t in range(max_t):\n",
    "            action = baseline_agent.act(state, eps)\n",
    "            next_state, reward, done, _ = env.step(action)\n",
    "            baseline_agent.step(state, action, reward, next_state, done)\n",
    "            state = next_state\n",
    "            score += reward\n",
    "            if done:\n",
    "                break\n",
    "        scores_window.append(score)       # save most recent score\n",
    "        scores.append(score)              # save most recent score\n",
    "        eps = max(eps_end, eps_decay*eps) # decrease epsilon\n",
    "        print('\\rEpisode {}\\tAverage Score: {:.2f}'.format(i_episode, np.mean(scores_window)), end=\"\")\n",
    "        if i_episode % 100 == 0:\n",
    "            print('\\rEpisode {}\\tAverage Score: {:.2f}'.format(i_episode, np.mean(scores_window)))\n",
    "    torch.save(baseline_agent.qnetwork_local.state_dict(), 'double_checkpoint.pth')\n",
    "    return scores"
   ],
   "metadata": {
    "collapsed": false,
    "pycharm": {
     "name": "#%%\n"
    }
   }
  },
  {
   "cell_type": "markdown",
   "source": [
    "### 5. Train the Agents and view the results!"
   ],
   "metadata": {
    "collapsed": false
   }
  },
  {
   "cell_type": "code",
   "execution_count": 5,
   "outputs": [
    {
     "name": "stdout",
     "output_type": "stream",
     "text": [
      "Episode 100\tAverage Score: -169.74\n",
      "Episode 200\tAverage Score: -106.96\n",
      "Episode 300\tAverage Score: -61.767\n",
      "Episode 400\tAverage Score: -7.244\n",
      "Episode 500\tAverage Score: 144.57\n",
      "Episode 600\tAverage Score: 167.16\n",
      "Episode 700\tAverage Score: 220.64\n",
      "Episode 800\tAverage Score: 242.26\n",
      "Episode 900\tAverage Score: 250.59\n",
      "Episode 1000\tAverage Score: 243.05\n",
      "Episode 1100\tAverage Score: 214.89\n",
      "Episode 1200\tAverage Score: 177.85\n",
      "Episode 1300\tAverage Score: 197.83\n",
      "Episode 1400\tAverage Score: 236.32\n",
      "Episode 1500\tAverage Score: 244.90\n",
      "Episode 100\tAverage Score: -110.15\n",
      "Episode 200\tAverage Score: -58.239\n",
      "Episode 300\tAverage Score: 77.636\n",
      "Episode 400\tAverage Score: 207.64\n",
      "Episode 500\tAverage Score: 245.97\n",
      "Episode 600\tAverage Score: 266.22\n",
      "Episode 700\tAverage Score: 265.56\n",
      "Episode 800\tAverage Score: 266.33\n",
      "Episode 900\tAverage Score: 271.19\n",
      "Episode 1000\tAverage Score: 269.26\n",
      "Episode 1100\tAverage Score: 272.86\n",
      "Episode 1200\tAverage Score: 258.73\n",
      "Episode 1300\tAverage Score: 254.75\n",
      "Episode 1400\tAverage Score: 266.83\n",
      "Episode 1500\tAverage Score: 267.68\n"
     ]
    },
    {
     "data": {
      "text/plain": "<Figure size 432x288 with 1 Axes>",
      "image/png": "[encoded data removed]"
     },
     "metadata": {
      "needs_background": "light"
     },
     "output_type": "display_data"
    }
   ],
   "source": [
    "#Train the network and save the scores\n",
    "baseline_scores = dqn()\n",
    "double_scores = double_dqn()\n",
    "\n",
    "# graph and show/save the scores\n",
    "fig, ax = plt.subplots()\n",
    "ax.set(xlabel=\"Episode #\", ylabel='Score', title=\"Agent Comparison for Lunar_Lander_V2\")\n",
    "ax.grid()\n",
    "ax.plot(np.arange(len(baseline_scores)), baseline_scores, label=\"Baseline Agent\")\n",
    "ax.plot(np.arange(len(double_scores)), double_scores, label=\"Double DQN Agent\")\n",
    "ax.plot(np.arange(len(baseline_scores)), np.ones(len(baseline_scores))*200, color='black', linestyle='dashed', label=\"Solved\")\n",
    "ax.set(xlabel=\"Episode #\", ylabel='Score', title=\"Agent Comparison for Lunar_Lander_V2\")\n",
    "ax.legend()\n",
    "\n",
    "if save_graph:\n",
    "    filepath = f\"C:\\Dev\\Python\\RL\\Lunar_Lander\\images\\\\Model_Comparison.png\"\n",
    "    fig.savefig(filepath)\n",
    "if show_graph:\n",
    "    plt.show()"
   ],
   "metadata": {
    "collapsed": false,
    "pycharm": {
     "name": "#%%\n"
    }
   }
  },
  {
   "cell_type": "markdown",
   "metadata": {},
   "source": [
    "### 5. Watch a Smart Agent!\n",
    "\n",
    "This code cell will load the trained weights from file to watch the smart agent!"
   ]
  },
  {
   "cell_type": "code",
   "execution_count": 9,
   "metadata": {
    "pycharm": {
     "name": "#%%\n"
    }
   },
   "outputs": [],
   "source": [
    "if watch_agent:\n",
    "    # load the weights from file\n",
    "    baseline_agent.qnetwork_local.load_state_dict(torch.load('baseline_checkpoint.pth'))\n",
    "    double_agent.qnetwork_local.load_state_dict(torch.load('double_checkpoint.pth'))\n",
    "\n",
    "    for i in range(5):\n",
    "        state = env.reset()\n",
    "        done = False\n",
    "        while not done:\n",
    "            env.render()\n",
    "            action = double_agent.act(state)\n",
    "            state, reward, done, _ = env.step(action)\n",
    "\n",
    "    env.close()"
   ]
  }
 ],
 "metadata": {
  "kernelspec": {
   "display_name": "Python 3",
   "language": "python",
   "name": "python3"
  },
  "language_info": {
   "codemirror_mode": {
    "name": "ipython",
    "version": 3
   },
   "file_extension": ".py",
   "mimetype": "text/x-python",
   "name": "python",
   "nbconvert_exporter": "python",
   "pygments_lexer": "ipython3",
   "version": "3.6.9"
  }
 },
 "nbformat": 4,
 "nbformat_minor": 2
}