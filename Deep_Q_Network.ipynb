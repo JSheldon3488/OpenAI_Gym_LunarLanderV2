{
 "cells": [
  {
   "cell_type": "markdown",
   "metadata": {},
   "source": [
    "# Deep Q-Network (DQN)\n",
    "---\n",
    "This notebook is a implementation of a DQN agent to solve OpenAI Gym's LunarLander-v2 environment running on a Windows10 machine.\n",
    "\n",
    "### 1. Import the Necessary Packages and set global variables"
   ]
  },
  {
   "cell_type": "code",
   "execution_count": 1,
   "metadata": {},
   "outputs": [
    {
     "name": "stdout",
     "output_type": "stream",
     "text": [
      "Requirement already satisfied: gym in c:\\dev\\python\\rl\\lunar_lander\\venv\\lib\\site-packages (0.17.1)\n",
      "Requirement already satisfied: scipy in c:\\dev\\python\\rl\\lunar_lander\\venv\\lib\\site-packages (from gym) (1.4.1)\n",
      "Requirement already satisfied: numpy>=1.10.4 in c:\\dev\\python\\rl\\lunar_lander\\venv\\lib\\site-packages (from gym) (1.18.3)\n",
      "Requirement already satisfied: six in c:\\dev\\python\\rl\\lunar_lander\\venv\\lib\\site-packages (from gym) (1.14.0)\n",
      "Requirement already satisfied: pyglet<=1.5.0,>=1.4.0 in c:\\dev\\python\\rl\\lunar_lander\\venv\\lib\\site-packages (from gym) (1.5.0)\n",
      "Requirement already satisfied: cloudpickle<1.4.0,>=1.2.0 in c:\\dev\\python\\rl\\lunar_lander\\venv\\lib\\site-packages (from gym) (1.3.0)\n",
      "Requirement already satisfied: future in c:\\dev\\python\\rl\\lunar_lander\\venv\\lib\\site-packages (from pyglet<=1.5.0,>=1.4.0->gym) (0.18.2)\n",
      "Requirement already satisfied: Box2D in c:\\dev\\python\\rl\\lunar_lander\\venv\\lib\\site-packages (2.3.10)\n",
      "Requirement already satisfied: pyglet==1.5.0 in c:\\dev\\python\\rl\\lunar_lander\\venv\\lib\\site-packages (1.5.0)\n",
      "Requirement already satisfied: future in c:\\dev\\python\\rl\\lunar_lander\\venv\\lib\\site-packages (from pyglet==1.5.0) (0.18.2)\n",
      "Requirement already satisfied: gym[box2d] in c:\\dev\\python\\rl\\lunar_lander\\venv\\lib\\site-packages (0.17.1)\n",
      "Requirement already satisfied: scipy in c:\\dev\\python\\rl\\lunar_lander\\venv\\lib\\site-packages (from gym[box2d]) (1.4.1)\n",
      "Requirement already satisfied: numpy>=1.10.4 in c:\\dev\\python\\rl\\lunar_lander\\venv\\lib\\site-packages (from gym[box2d]) (1.18.3)\n",
      "Requirement already satisfied: six in c:\\dev\\python\\rl\\lunar_lander\\venv\\lib\\site-packages (from gym[box2d]) (1.14.0)\n",
      "Requirement already satisfied: pyglet<=1.5.0,>=1.4.0 in c:\\dev\\python\\rl\\lunar_lander\\venv\\lib\\site-packages (from gym[box2d]) (1.5.0)\n",
      "Requirement already satisfied: cloudpickle<1.4.0,>=1.2.0 in c:\\dev\\python\\rl\\lunar_lander\\venv\\lib\\site-packages (from gym[box2d]) (1.3.0)\n",
      "Collecting box2d-py~=2.3.5 (from gym[box2d])\n",
      "  Using cached https://files.pythonhosted.org/packages/98/c2/ab05b5329dc4416b5ee5530f0625a79c394a3e3c10abe0812b9345256451/box2d-py-2.3.8.tar.gz\n",
      "Requirement already satisfied: future in c:\\dev\\python\\rl\\lunar_lander\\venv\\lib\\site-packages (from pyglet<=1.5.0,>=1.4.0->gym[box2d]) (0.18.2)\n",
      "Installing collected packages: box2d-py\n",
      "  Running setup.py install for box2d-py: started\n",
      "    Running setup.py install for box2d-py: finished with status 'error'\n",
      "    Complete output from command C:\\Dev\\Python\\RL\\Lunar_Lander\\venv\\Scripts\\python.exe -u -c \"import setuptools, tokenize;__file__='C:\\\\Users\\\\JUSTIN~1\\\\AppData\\\\Local\\\\Temp\\\\pip-install-y4pgwuz3\\\\box2d-py\\\\setup.py';f=getattr(tokenize, 'open', open)(__file__);code=f.read().replace('\\r\\n', '\\n');f.close();exec(compile(code, __file__, 'exec'))\" install --record C:\\Users\\JUSTIN~1\\AppData\\Local\\Temp\\pip-record-c_lxlplx\\install-record.txt --single-version-externally-managed --compile --install-headers C:\\Dev\\Python\\RL\\Lunar_Lander\\venv\\include\\site\\python3.6\\box2d-py:\n",
      "    Using setuptools (version 40.8.0).\n",
      "    running install\n",
      "    running build\n",
      "    running build_py\n",
      "    creating build\n",
      "    creating build\\lib.win-amd64-3.6\n",
      "    creating build\\lib.win-amd64-3.6\\Box2D\n",
      "    copying library\\Box2D\\Box2D.py -> build\\lib.win-amd64-3.6\\Box2D\n",
      "    copying library\\Box2D\\__init__.py -> build\\lib.win-amd64-3.6\\Box2D\n",
      "    creating build\\lib.win-amd64-3.6\\Box2D\\b2\n",
      "    copying library\\Box2D\\b2\\__init__.py -> build\\lib.win-amd64-3.6\\Box2D\\b2\n",
      "    running build_ext\n",
      "    building 'Box2D._Box2D' extension\n",
      "    swigging Box2D\\Box2D.i to Box2D\\Box2D_wrap.cpp\n",
      "    swig.exe -python -c++ -IBox2D -small -O -includeall -ignoremissing -w201 -globals b2Globals -outdir library\\Box2D -keyword -w511 -D_SWIG_KWARGS -o Box2D\\Box2D_wrap.cpp Box2D\\Box2D.i\n",
      "    error: command 'swig.exe' failed: No such file or directory\n",
      "    \n",
      "    ----------------------------------------\n"
     ]
    },
    {
     "name": "stderr",
     "output_type": "stream",
     "text": [
      "Command \"C:\\Dev\\Python\\RL\\Lunar_Lander\\venv\\Scripts\\python.exe -u -c \"import setuptools, tokenize;__file__='C:\\\\Users\\\\JUSTIN~1\\\\AppData\\\\Local\\\\Temp\\\\pip-install-y4pgwuz3\\\\box2d-py\\\\setup.py';f=getattr(tokenize, 'open', open)(__file__);code=f.read().replace('\\r\\n', '\\n');f.close();exec(compile(code, __file__, 'exec'))\" install --record C:\\Users\\JUSTIN~1\\AppData\\Local\\Temp\\pip-record-c_lxlplx\\install-record.txt --single-version-externally-managed --compile --install-headers C:\\Dev\\Python\\RL\\Lunar_Lander\\venv\\include\\site\\python3.6\\box2d-py\" failed with error code 1 in C:\\Users\\JUSTIN~1\\AppData\\Local\\Temp\\pip-install-y4pgwuz3\\box2d-py\\\n"
     ]
    }
   ],
   "source": [
    "!pip3 install gym\n",
    "!pip3 install Box2D\n",
    "!pip3 install pyglet==1.5.0\n",
    "!pip install gym[box2d]\n",
    "import gym\n",
    "import random\n",
    "import torch\n",
    "import numpy as np\n",
    "from collections import deque\n",
    "import matplotlib.pyplot as plt\n",
    "%matplotlib inline\n"
   ]
  },
  {
   "cell_type": "markdown",
   "metadata": {},
   "source": [
    "### 2. Instantiate the Environment and untrained Agents\n",
    "\n",
    "Initialize the environment in the code cell below."
   ]
  },
  {
   "cell_type": "code",
   "execution_count": 2,
   "metadata": {},
   "outputs": [
    {
     "name": "stderr",
     "output_type": "stream",
     "text": [
      "c:\\dev\\python\\rl\\lunar_lander\\venv\\lib\\site-packages\\gym\\logger.py:30: UserWarning: \u001B[33mWARN: Box bound precision lowered by casting to float32\u001B[0m\n",
      "  warnings.warn(colorize('%s: %s'%('WARN', msg % args), 'yellow'))\n"
     ]
    }
   ],
   "source": [
    "# Set up Enviornment\n",
    "env = gym.make('LunarLander-v2')\n",
    "env.seed(88)\n",
    "\n",
    "# Set up Agents\n",
    "from dqn_agent import Agent, Agent_Double, Prioritized_Agent, Prioritized_Double_Agent\n",
    "baseline_agent = Agent(state_size=8, action_size=4, seed=88)\n",
    "double_agent = Agent_Double(state_size=8, action_size=4, seed=88)\n",
    "prioritized_agent = Prioritized_Agent(state_size=8, action_size=4, seed=88)\n",
    "prioritized_double_agent = Prioritized_Double_Agent(state_size=8, action_size=4, seed=88)\n"
   ]
  },
  {
   "cell_type": "markdown",
   "source": [
    "### 3. Watch untrained Agent"
   ],
   "metadata": {
    "collapsed": false
   }
  },
  {
   "cell_type": "code",
   "execution_count": 7,
   "outputs": [],
   "source": [
    "def watch_agent(Agent, env, trained=True):\n",
    "    \"\"\"\n",
    "    Function used to watch the Agent perform on the Lunar_Lander_v2 enviornment\n",
    "    :param Agent: Class of the Agent\n",
    "    \"\"\"\n",
    "    # load the weights from file\n",
    "    if trained:\n",
    "        Agent.qnetwork_local.load_state_dict(torch.load(f\"C:\\Dev\\Python\\RL\\Lunar_Lander\\checkpoints\\\\{Agent}.pth\"))\n",
    "\n",
    "    # Watch the Agent perform\n",
    "    for i in range(5):\n",
    "        state = env.reset()\n",
    "        done = False\n",
    "        while not done:\n",
    "            env.render()\n",
    "            action = Agent.act(state)\n",
    "            state, reward, done, _ = env.step(action)\n",
    "\n",
    "    env.close()\n",
    "\n",
    "watch_agent(baseline_agent, env, False)"
   ],
   "metadata": {
    "collapsed": false,
    "pycharm": {
     "name": "#%%\n"
    }
   }
  },
  {
   "cell_type": "markdown",
   "metadata": {},
   "source": [
    "### 4. Function used to train Agents"
   ]
  },
  {
   "cell_type": "code",
   "execution_count": 8,
   "metadata": {},
   "outputs": [],
   "source": [
    "def simulation(Agent, n_episodes=2000, max_t=1000, eps_start=1.0, eps_end=0.01, eps_decay=0.995):\n",
    "    \"\"\"Deep Q-Learning.\n",
    "    \n",
    "    Params\n",
    "    ======\n",
    "        Agent (class): This is the class of Agent from dqn_agent.py that you want to use\n",
    "        n_episodes (int): maximum number of training episodes\n",
    "        max_t (int): maximum number of timesteps per episode\n",
    "        eps_start (float): starting value of epsilon, for epsilon-greedy action selection\n",
    "        eps_end (float): minimum value of epsilon\n",
    "        eps_decay (float): multiplicative factor (per episode) for decreasing epsilon\n",
    "    \"\"\"\n",
    "    scores = []                        # list containing scores from each episode\n",
    "    scores_window = deque(maxlen=100)  # last 100 scores\n",
    "    eps = eps_start                    # initialize epsilon\n",
    "    for i_episode in range(1, n_episodes+1):\n",
    "        state = env.reset()\n",
    "        score = 0\n",
    "        for t in range(max_t):\n",
    "            action = Agent.act(state, eps)\n",
    "            next_state, reward, done, _ = env.step(action)\n",
    "            Agent.step(state, action, reward, next_state, done)\n",
    "            state = next_state\n",
    "            score += reward\n",
    "            if done:\n",
    "                break \n",
    "        scores_window.append(score)       # save most recent score\n",
    "        scores.append(score)              # save most recent score\n",
    "        eps = max(eps_end, eps_decay*eps) # decrease epsilon\n",
    "        print('\\rEpisode {}\\tAverage Score: {:.2f}'.format(i_episode, np.mean(scores_window)), end=\"\")\n",
    "        if i_episode % 100 == 0:\n",
    "            print('\\rEpisode {}\\tAverage Score: {:.2f}'.format(i_episode, np.mean(scores_window)))\n",
    "    torch.save(baseline_agent.qnetwork_local.state_dict(), f\"C:\\Dev\\Python\\RL\\Lunar_Lander\\checkpoints\\\\{Agent}.pth\")\n",
    "    return scores\n"
   ]
  },
  {
   "cell_type": "markdown",
   "source": [
    "### 5. Function used to graph simulation results"
   ],
   "metadata": {
    "collapsed": false
   }
  },
  {
   "cell_type": "code",
   "execution_count": 9,
   "outputs": [],
   "source": [
    "def graph_results(agent_scores, save_graph=True):\n",
    "    \"\"\" Used to grpah the results of agents from simulations\n",
    "\n",
    "    :param agent_scores: list of tuples of agent name and a array of scores (agent_name, scores)\n",
    "    :param save_graph: bool used to save the graph in images\n",
    "    :return:\n",
    "    \"\"\"\n",
    "    # Setup up graph\n",
    "    fig, ax = plt.subplots()\n",
    "    ax.set(xlabel=\"Episode #\", ylabel='Score', title=\"Agent Comparison for Lunar_Lander_V2\")\n",
    "    ax.plot(np.arange(len(baseline_scores)), np.ones(len(baseline_scores))*200, color='black', linestyle='dashed', label=\"Solved\")\n",
    "    ax.grid()\n",
    "    save_name = \"\"\n",
    "    # Graph all the results\n",
    "    for name, score in enumerate(agent_scores):\n",
    "        ax.plot(np.arange(len(score)), score, label=f\"{name} Agent\")\n",
    "        save_name += f\"{name}_\"\n",
    "    ax.legend()\n",
    "\n",
    "    if save_graph:\n",
    "        filepath = f\"C:\\Dev\\Python\\RL\\Lunar_Lander\\images\\\\{save_name}.png\"\n",
    "        fig.savefig(filepath)\n",
    "    plt.show()"
   ],
   "metadata": {
    "collapsed": false,
    "pycharm": {
     "name": "#%%\n"
    }
   }
  },
  {
   "cell_type": "markdown",
   "source": [
    "### 6. Train the Agents and view the results!"
   ],
   "metadata": {
    "collapsed": false
   }
  },
  {
   "cell_type": "code",
   "execution_count": null,
   "outputs": [
    {
     "name": "stdout",
     "output_type": "stream",
     "text": [
      "Episode 100\tAverage Score: -195.52\n",
      "Episode 200\tAverage Score: -174.48\n",
      "Episode 300\tAverage Score: -16.948\n",
      "Episode 400\tAverage Score: -66.03\n",
      "Episode 500\tAverage Score: 71.351\n",
      "Episode 600\tAverage Score: 74.05\n",
      "Episode 700\tAverage Score: 144.28\n",
      "Episode 800\tAverage Score: 152.52\n",
      "Episode 900\tAverage Score: 158.58\n",
      "Episode 1000\tAverage Score: 172.44\n",
      "Episode 1100\tAverage Score: 201.37\n",
      "Episode 1200\tAverage Score: 195.24\n",
      "Episode 1300\tAverage Score: 203.16\n",
      "Episode 1400\tAverage Score: 203.55\n",
      "Episode 1500\tAverage Score: 212.33\n",
      "Episode 1600\tAverage Score: 210.98\n",
      "Episode 1700\tAverage Score: 222.07\n",
      "Episode 1800\tAverage Score: 238.41\n",
      "Episode 1900\tAverage Score: 226.33\n",
      "Episode 2000\tAverage Score: 235.52\n",
      "Episode 100\tAverage Score: -198.74\n",
      "Episode 200\tAverage Score: -187.16\n",
      "Episode 300\tAverage Score: -197.17\n",
      "Episode 400\tAverage Score: -117.25\n",
      "Episode 500\tAverage Score: -61.053\n",
      "Episode 600\tAverage Score: -55.00\n",
      "Episode 700\tAverage Score: -47.51\n",
      "Episode 800\tAverage Score: 1.7978\n",
      "Episode 900\tAverage Score: 94.93\n",
      "Episode 1000\tAverage Score: 135.46\n",
      "Episode 1100\tAverage Score: 182.80\n",
      "Episode 1200\tAverage Score: 212.76\n",
      "Episode 1300\tAverage Score: 202.82\n",
      "Episode 1400\tAverage Score: 181.96\n",
      "Episode 1500\tAverage Score: 187.92\n",
      "Episode 1600\tAverage Score: 191.78\n",
      "Episode 1700\tAverage Score: 201.85\n",
      "Episode 1800\tAverage Score: 211.80\n",
      "Episode 1900\tAverage Score: 227.32\n",
      "Episode 2000\tAverage Score: 244.46\n",
      "Episode 100\tAverage Score: -221.26\n",
      "Episode 200\tAverage Score: -149.21\n",
      "Episode 300\tAverage Score: -58.576\n",
      "Episode 400\tAverage Score: 29.367\n",
      "Episode 500\tAverage Score: -88.478\n",
      "Episode 546\tAverage Score: -5.735"
     ]
    }
   ],
   "source": [
    "''' Train the network and save the scores. Need to update this for different simulations as necessary. '''\n",
    "baseline_scores = simulation(baseline_agent)\n",
    "double_scores = simulation(double_agent)\n",
    "# Prioritized Replay was too slow\n",
    "#prioritized_scores = simulation(prioritized_agent)\n",
    "#prioritized_double_scores = simulation(prioritized_double_agent)\n",
    "#graph_results([(\"DQN\", baseline_scores),(\"Prioritized Experience Replay\", prioritized_scores)], save_graph=True)\n",
    "#graph_results([(\"Double DQN\", double_scores),(\"Prioritized Experience Replay\", prioritized_double_scores)], save_graph=True)\n"
   ],
   "metadata": {
    "collapsed": false,
    "pycharm": {
     "name": "#%%\n",
     "is_executing": true
    }
   }
  },
  {
   "cell_type": "markdown",
   "metadata": {},
   "source": [
    "### 7. Watch a Smart Agent!\n",
    "\n",
    "This code cell will load the trained weights from file to watch the smart agent!"
   ]
  },
  {
   "cell_type": "code",
   "execution_count": 8,
   "metadata": {
    "pycharm": {
     "name": "#%%\n"
    }
   },
   "outputs": [],
   "source": [
    "watch_agent(double_agent, env)\n",
    "\n"
   ]
  }
 ],
 "metadata": {
  "kernelspec": {
   "display_name": "Python 3",
   "language": "python",
   "name": "python3"
  },
  "language_info": {
   "codemirror_mode": {
    "name": "ipython",
    "version": 3
   },
   "file_extension": ".py",
   "mimetype": "text/x-python",
   "name": "python",
   "nbconvert_exporter": "python",
   "pygments_lexer": "ipython3",
   "version": "3.6.9"
  }
 },
 "nbformat": 4,
 "nbformat_minor": 2
}